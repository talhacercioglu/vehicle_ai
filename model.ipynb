{
 "cells": [
  {
   "cell_type": "code",
   "execution_count": 5,
   "metadata": {},
   "outputs": [],
   "source": [
    "import ast\n",
    "\n",
    "# Dosyaları açıp içeriklerini okuma\n",
    "with open(\"marka_ortalama_fiyatlar.json\", \"r\") as file:\n",
    "    marka_ortalama_fiyatlar = file.read()\n",
    "# TXT dosyasını oku\n",
    "with open('marka_id_dict.json', 'r') as file:\n",
    "    marka_id = file.read()\n",
    "\n",
    "\n",
    "with open(\"model_ortalama_fiyatlar.json\", \"r\") as file:\n",
    "    model_ortalama_fiyatlar = file.read()\n",
    "    # TXT dosyasını oku\n",
    "with open('model_id_dict.json', 'r') as file:\n",
    "    model_id = file.read()\n",
    "\n",
    "\n",
    "with open(\"yakit_ortalama_fiyatlar.json\", \"r\") as file:\n",
    "    yakit_ortalama_fiyatlar = file.read()\n",
    "    # TXT dosyasını oku\n",
    "with open('yakit_id_dict.json', 'r') as file:\n",
    "    yakit_id = file.read()\n",
    "\n",
    "\n",
    "with open('marka_model_id_dict.json', 'r') as file:\n",
    "    marka_model_id = file.read()\n",
    "with open('model_yakit_id_dict.json', 'r') as file:\n",
    "    model_yakit_id = file.read()\n",
    "\n",
    "\n",
    "\n",
    "# Dosya içeriğini bir sözlüğe çevirme (string olarak kaydedilmiş bir dict olduğu varsayılarak)\n",
    "marka_id_dict = ast.literal_eval(marka_id)\n",
    "marka_ortalama_dict = ast.literal_eval(marka_ortalama_fiyatlar)\n",
    "\n",
    "model_id_dict = ast.literal_eval(model_id)\n",
    "model_ortalama_dict = ast.literal_eval(model_ortalama_fiyatlar)\n",
    "\n",
    "yakit_id_dict = ast.literal_eval(yakit_id)\n",
    "yakit_ortalama_dict = ast.literal_eval(yakit_ortalama_fiyatlar)\n",
    "\n",
    "marka_model_id_dict = ast.literal_eval(marka_model_id)\n",
    "model_yakit_id_dict = ast.literal_eval(model_yakit_id)\n",
    "\n",
    "\n",
    "\n",
    "def get_info(data, key):\n",
    "    return data.get(key, \"Bilgi bulunamadı.\")\n",
    "\n",
    "\n",
    "\n",
    "# Kullanıcıdan girişleri alın\n",
    "marka_input = input(\"Marka: \")\n",
    "model_input = input(\"Model: \")\n",
    "km_input = float(input(\"KM: \"))\n",
    "yakit_input = input(\"Yakit: \")\n",
    "yil_input = float(input(\"Yil: \"))\n",
    "\n",
    "\n",
    "\n",
    "# İlgili isimlerle sözlükten değerleri çekme\n",
    "marka_id_info = marka_id_dict.get(marka_input, \"Bilgi bulunamadı.\")\n",
    "marka_ortalama_info = marka_id_dict.get(marka_input, \"Bilgi bulunamadı.\")\n",
    "\n",
    "model_id_info = model_id_dict.get(model_input, \"Bilgi bulunamadı.\")\n",
    "model_ortalama_info = model_ortalama_dict.get(model_input, \"Bilgi bulunamadı.\")\n",
    "\n",
    "yakit_id_info = yakit_id_dict.get(yakit_input, \"Bilgi bulunamadı.\")\n",
    "yakit_ortalama_info = yakit_ortalama_dict.get(yakit_input, \"Bilgi bulunamadı.\")\n",
    "\n",
    "marka_model_id_info = marka_model_id_dict.get(marka_input + '_' + model_input, \"Bilgi bulunamadı.\")\n",
    "model_yakit_id_info = model_yakit_id_dict.get(model_input + '_' + yakit_input, \"Bilgi bulunamadı.\")"
   ]
  },
  {
   "cell_type": "code",
   "execution_count": 6,
   "metadata": {},
   "outputs": [],
   "source": [
    "import joblib\n",
    "\n",
    "def tahmin_yap(model, input_verileri):\n",
    "    \n",
    "    # Modeli yükle\n",
    "    model = joblib.load(model)\n",
    "\n",
    "    # Tahmin yap\n",
    "    tahmin = model.predict(input_verileri)\n",
    "\n",
    "    return tahmin\n",
    "\n",
    "# Kullanıcıdan alınan verileri bir sözlükte topla\n",
    "input_verileri = {\n",
    "    'Marka': marka_id_info ,\n",
    "    'Model': model_id_info ,\n",
    "    'KM': km_input ,\n",
    "    'Yakit': yakit_id_info ,\n",
    "    'Yil': yil_input ,\n",
    "    'Arac_Yasi': 2023 - yil_input,\n",
    "    'Arac_Yasi/KM': (2023 - yil_input) / km_input,\n",
    "    'Marka_Model': marka_model_id_info ,\n",
    "    'Model_Yakit': model_yakit_id_info ,\n",
    "    'Marka_Ortalama_Fiyat': marka_ortalama_info ,\n",
    "    'Model_Ortalama_Fiyat': model_ortalama_info ,\n",
    "    'Yakit_Ortalama_Fiyat': yakit_ortalama_info ,\n",
    "}"
   ]
  },
  {
   "cell_type": "code",
   "execution_count": 7,
   "metadata": {},
   "outputs": [
    {
     "name": "stdout",
     "output_type": "stream",
     "text": [
      "Marka: <class 'int'>\n",
      "Model: <class 'int'>\n",
      "KM: <class 'float'>\n",
      "Yakit: <class 'int'>\n",
      "Yil: <class 'float'>\n",
      "Arac_Yasi: <class 'float'>\n",
      "Arac_Yasi/KM: <class 'float'>\n",
      "Marka_Model: <class 'int'>\n",
      "Model_Yakit: <class 'int'>\n",
      "Marka_Ortalama_Fiyat: <class 'int'>\n",
      "Model_Ortalama_Fiyat: <class 'float'>\n",
      "Yakit_Ortalama_Fiyat: <class 'float'>\n"
     ]
    }
   ],
   "source": [
    "print('Marka:', type(marka_id_info))\n",
    "print('Model:', type(model_id_info))\n",
    "print('KM:', type(km_input))\n",
    "print('Yakit:', type(yakit_id_info))\n",
    "print('Yil:', type(yil_input))\n",
    "print('Arac_Yasi:', type(2023 - yil_input))\n",
    "print('Arac_Yasi/KM:', type((2023 - yil_input) / km_input))\n",
    "print('Marka_Model:', type(marka_model_id_info))\n",
    "print('Model_Yakit:', type(model_yakit_id_info))\n",
    "print('Marka_Ortalama_Fiyat:', type(marka_ortalama_info))\n",
    "print('Model_Ortalama_Fiyat:', type(model_ortalama_info))\n",
    "print('Yakit_Ortalama_Fiyat:', type(yakit_ortalama_info))\n"
   ]
  },
  {
   "cell_type": "code",
   "execution_count": 8,
   "metadata": {},
   "outputs": [
    {
     "name": "stdout",
     "output_type": "stream",
     "text": [
      "Tahmin Edilen Normalize Edilmiş Fiyat:  0.12775224078784958\n",
      "Tahmin Edilen Gerçek Fiyat:  466604.17118504824\n"
     ]
    },
    {
     "name": "stderr",
     "output_type": "stream",
     "text": [
      "c:\\Users\\AGSTAJER\\AppData\\Local\\Programs\\Python\\Python311\\Lib\\site-packages\\sklearn\\base.py:465: UserWarning: X does not have valid feature names, but GradientBoostingRegressor was fitted with feature names\n",
      "  warnings.warn(\n"
     ]
    }
   ],
   "source": [
    "# Modelinizi yükleyip tahmin yapın\n",
    "model_tahmini = tahmin_yap('ai.pickle', [list(input_verileri.values())])\n",
    "\n",
    "# Tahmin edilen fiyatı normalizasyon işleminden önceki ölçeklere çevirin\n",
    "def minmax_to_original(value, min_val, max_val):\n",
    "    original_value = value * (max_val - min_val) + min_val \n",
    "    return original_value\n",
    "\n",
    "min_fiyat = 15000.0 \n",
    "max_fiyat = 3550000.0 \n",
    "\n",
    "# Tahmin edilen fiyatı orijinal ölçeklere çevirin\n",
    "tahmin_fiyat_original = minmax_to_original(model_tahmini[0], min_fiyat, max_fiyat)\n",
    "\n",
    "\n",
    "# Tahmin sonucunu yazdırın\n",
    "print(\"Tahmin Edilen Normalize Edilmiş Fiyat: \", model_tahmini[0])\n",
    "print(\"Tahmin Edilen Gerçek Fiyat: \",tahmin_fiyat_original)"
   ]
  }
 ],
 "metadata": {
  "kernelspec": {
   "display_name": "Python 3",
   "language": "python",
   "name": "python3"
  },
  "language_info": {
   "codemirror_mode": {
    "name": "ipython",
    "version": 3
   },
   "file_extension": ".py",
   "mimetype": "text/x-python",
   "name": "python",
   "nbconvert_exporter": "python",
   "pygments_lexer": "ipython3",
   "version": "3.11.5"
  }
 },
 "nbformat": 4,
 "nbformat_minor": 2
}
